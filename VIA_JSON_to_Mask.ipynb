{
  "nbformat": 4,
  "nbformat_minor": 0,
  "metadata": {
    "colab": {
      "name": "VIA JSON to Mask.ipynb",
      "provenance": [],
      "collapsed_sections": [],
      "authorship_tag": "ABX9TyNErPfcUwBqhBNGZBlLqrGJ",
      "include_colab_link": true
    },
    "kernelspec": {
      "name": "python3",
      "display_name": "Python 3"
    },
    "language_info": {
      "name": "python"
    },
    "accelerator": "TPU"
  },
  "cells": [
    {
      "cell_type": "markdown",
      "metadata": {
        "id": "view-in-github",
        "colab_type": "text"
      },
      "source": [
        "<a href=\"https://colab.research.google.com/github/mz1119/shaker-level-detection-model/blob/main/VIA_JSON_to_Mask.ipynb\" target=\"_parent\"><img src=\"https://colab.research.google.com/assets/colab-badge.svg\" alt=\"Open In Colab\"/></a>"
      ]
    },
    {
      "cell_type": "code",
      "metadata": {
        "colab": {
          "base_uri": "https://localhost:8080/"
        },
        "id": "Egc6CdUcviGt",
        "outputId": "80671d0c-2038-495a-e21f-0bee0bc261be"
      },
      "source": [
        "#mount drive, allows access to folder in google drive\n",
        "#for this project, i made a folder in my drive called Blue Hill and worked out of that folder\n",
        "from google.colab import drive\n",
        "drive.mount('/content/drive')"
      ],
      "execution_count": null,
      "outputs": [
        {
          "output_type": "stream",
          "text": [
            "Mounted at /content/drive\n"
          ],
          "name": "stdout"
        }
      ]
    },
    {
      "cell_type": "code",
      "metadata": {
        "id": "khTQcQ5xtxpP"
      },
      "source": [
        "import pandas as pd\n",
        "import numpy as np\n",
        "import json\n",
        "from PIL import Image, ImageDraw"
      ],
      "execution_count": null,
      "outputs": []
    },
    {
      "cell_type": "code",
      "metadata": {
        "id": "-gzAlMSeuY8H"
      },
      "source": [
        "#get dataframe from json\n",
        "data_frame = pd.read_json('/content/drive/My Drive/Blue Hill/via_project_13Jun2021_18h22m_json.json')\n",
        "data_frame = data_frame.transpose().reset_index()[['filename','regions']]"
      ],
      "execution_count": null,
      "outputs": []
    },
    {
      "cell_type": "code",
      "metadata": {
        "id": "dRm2ZXbMuaHt"
      },
      "source": [
        "#shortens data_frame for testing\n",
        "#data_frame = data_frame[0:5] "
      ],
      "execution_count": null,
      "outputs": []
    },
    {
      "cell_type": "code",
      "metadata": {
        "id": "Osa78B1cucl0"
      },
      "source": [
        "#Level Masks\n",
        "for row in range(data_frame.shape[0]):\n",
        "    #get name\n",
        "    file_name = data_frame['filename'][row]\n",
        "    #open image\n",
        "    im = Image.open(\"/content/drive/My Drive/Blue Hill/Coffee_Shaker_Images/\" + file_name).convert(\"L\")\n",
        "    \n",
        "    #get size\n",
        "    width, height = im.size\n",
        "    \n",
        "    imgdraw = ImageDraw.Draw(im) \n",
        "    imgdraw.rectangle([0,0,width,height], fill = 0, outline = 0) #make whole screen black\n",
        "    \n",
        "    #level line part -------------------\n",
        "    #get points of line\n",
        "    x_values = data_frame['regions'][row][1]['shape_attributes']['all_points_x']\n",
        "    y_values = data_frame['regions'][row][1]['shape_attributes']['all_points_y']\n",
        "    \n",
        "    #add paired coords to list\n",
        "    xy_coordinates = []\n",
        "    for counter in range(len(x_values)):\n",
        "        xy_coordinates.append([x_values[counter],y_values[counter]])\n",
        "    \n",
        "    #add lines\n",
        "    for counter in range(len(xy_coordinates) - 1):\n",
        "        shape = [tuple(xy_coordinates[counter]),tuple(xy_coordinates[counter+1])]\n",
        "        imgdraw.line(shape, fill = 1, width = 3)\n",
        "\n",
        "  \n",
        "    im.save(\"/content/drive/My Drive/Blue Hill/Level_Masks/level_mask_\" + file_name[:-4] + \"PNG\", quality = 95)"
      ],
      "execution_count": null,
      "outputs": []
    },
    {
      "cell_type": "code",
      "metadata": {
        "id": "g14TNY2YDzy0",
        "colab": {
          "base_uri": "https://localhost:8080/",
          "height": 981
        },
        "outputId": "9de4f473-d666-47b0-e498-041e28fba3e4"
      },
      "source": [
        "#Outline Masks\n",
        "for row in range(data_frame.shape[0]):\n",
        "    #get name\n",
        "    file_name = data_frame['filename'][row]\n",
        "    #open image\n",
        "    im = Image.open(\"/content/drive/My Drive/Blue Hill/Coffee_Shaker_Images/\" + file_name).convert(\"L\")\n",
        "\n",
        "    #get size\n",
        "    width, height = im.size\n",
        "    \n",
        "    imgdraw = ImageDraw.Draw(im) \n",
        "    imgdraw.rectangle([0,0,width,height], fill = 0, outline = 0) #make whole screen black\n",
        "\n",
        "    #outline part -----------------\n",
        "    #get points of lineimg\n",
        "    x_values = data_frame['regions'][row][0]['shape_attributes']['all_points_x']\n",
        "    y_values = data_frame['regions'][row][0]['shape_attributes']['all_points_y']\n",
        "    \n",
        "    #add paired coords to list\n",
        "    xy_coordinates = []\n",
        "    for counter in range(len(x_values)):\n",
        "        xy_coordinates.append([x_values[counter],y_values[counter]])\n",
        "    \n",
        "    #add lines\n",
        "    for counter in range(len(xy_coordinates) - 1):\n",
        "        shape = [tuple(xy_coordinates[counter]),tuple(xy_coordinates[counter+1])]\n",
        "        imgdraw.line(shape,fill = 1,width = 3)\n",
        "    #last line\n",
        "    last_connecting_line = [tuple(xy_coordinates[-1]),tuple(xy_coordinates[0])]\n",
        "    imgdraw.line(last_connecting_line,fill = 1,width = 3)\n",
        "    \n",
        "    im.save(\"/content/drive/My Drive/Blue Hill/Outline_Masks/outline_mask_\" + file_name[:-4] + \"PNG\", quality = 95)\n"
      ],
      "execution_count": null,
      "outputs": [
        {
          "output_type": "execute_result",
          "data": {
            "image/png": "[encoded data removed]",
            "text/plain": [
              "<PIL.Image.Image image mode=P size=1280x964 at 0x7FD4E4D9DF90>"
            ]
          },
          "metadata": {
            "tags": []
          },
          "execution_count": 128
        }
      ]
    },
    {
      "cell_type": "code",
      "metadata": {
        "id": "ib4LfysYu2lu"
      },
      "source": [
        "im.putpalette([\n",
        "    0, 0, 0, # black background\n",
        "    255, 0, 0, # index 1 is red\n",
        "    0, 255, 0, # index 2 is green\n",
        "])\n",
        "im"
      ],
      "execution_count": null,
      "outputs": []
    }
  ]
}